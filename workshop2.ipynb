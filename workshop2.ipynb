{
 "cells": [
  {
   "cell_type": "code",
   "execution_count": 5,
   "id": "42dd7e92",
   "metadata": {},
   "outputs": [
    {
     "name": "stdout",
     "output_type": "stream",
     "text": [
      "#a = int(a)\n",
      "\n"
     ]
    }
   ],
   "source": [
    "file = open(\"hello.py\",\"r\")\n",
    "\n",
    "lines = file.readlines()\n",
    "\n",
    "\n",
    "print(lines[4])\n",
    "\n",
    "file.close()"
   ]
  },
  {
   "cell_type": "code",
   "execution_count": 10,
   "id": "8314f2e7",
   "metadata": {},
   "outputs": [],
   "source": [
    "file = open(\"hey.txt\", 'w', encoding='utf-8')\n",
    "\n",
    "file.writelines([\"Hello there.\\n\",\"Hey\\n\"])\n",
    "\n",
    "file.close()"
   ]
  },
  {
   "cell_type": "code",
   "execution_count": 14,
   "id": "7edfe2eb",
   "metadata": {},
   "outputs": [],
   "source": [
    "\"\"\" # Writing to a CSV file\n",
    "import csv\n",
    "with open('example.csv', 'w', newline='') as file:\n",
    "    writer = csv.writer(file)\n",
    "    writer.writerow(['Name', 'Age', 'City'])\n",
    "    writer.writerow(['Alice', 30, 'New York'])\n",
    "    writer.writerow(['Bob', 25, 'San Francisco'])\n",
    "\"\"\"\n",
    "import csv\n",
    "\n",
    "persons = [\n",
    "    {\"lastname\" : \"Rulida\", \"firstname\": \"Jan\", \"age\": 40},\n",
    "    {\"lastname\" : \"Cruise\", \"firstname\": \"Brad\", \"age\": 63},\n",
    "    {\"lastname\" : \"Pitt\", \"firstname\": \"Tom\", \"age\": 65}\n",
    "]\n",
    "\n",
    "with open('persons.csv', 'w', newline='') as csvfile:\n",
    "    persons_fieldnames = persons[0].keys()\n",
    "    writer = csv.DictWriter(csvfile, fieldnames=persons_fieldnames)\n",
    "    \n",
    "    writer.writeheader()\n",
    "    writer.writerows(persons)\n",
    "\n"
   ]
  },
  {
   "cell_type": "code",
   "execution_count": null,
   "id": "3419148c",
   "metadata": {},
   "outputs": [],
   "source": [
    "class Person():\n",
    "    legs = 2\n",
    "    \n",
    "    def __init__(self, fname, lname):\n",
    "        self.firstname = fname\n",
    "        self.lastname = lname\n",
    "    \n",
    "    def say(self):\n",
    "        print(f\"Hi, I am {self.firstname}\")\n",
    "        \n",
    "\n",
    "class Student(Person):\n",
    "    def __init__(self, fname, lname, age):\n",
    "        super().__init__(fname, lname)\n",
    "        self.student_age = age\n",
    "    \n",
    "    def say(self):\n",
    "        super().say()\n",
    "        print(f\"I am {self.student_age} years old\")\n"
   ]
  },
  {
   "cell_type": "code",
   "execution_count": 48,
   "id": "fbcf286a",
   "metadata": {},
   "outputs": [
    {
     "name": "stdout",
     "output_type": "stream",
     "text": [
      "Hi, I am Jan\n",
      "I am 40 years old\n",
      "2\n",
      "4\n",
      "10\n",
      "4\n"
     ]
    }
   ],
   "source": [
    "student1 = Student(fname=\"Jan\", lname=\"Ray\", age=40)\n",
    "student1.say()\n",
    "student1.legs\n",
    "\n",
    "student2 = Student(fname=\"Tom\", lname=\"Holland\", age=28)\n",
    "student2.legs = 4\n",
    "\n",
    "print(student1.legs)\n",
    "print(student2.legs)\n",
    "\n",
    "Person.legs = 10\n",
    "\n",
    "print(student1.legs)\n",
    "print(student2.legs)"
   ]
  },
  {
   "cell_type": "code",
   "execution_count": 49,
   "id": "63865eac",
   "metadata": {},
   "outputs": [],
   "source": [
    "def count_to_three():\n",
    "    yield 1\n",
    "    yield 2\n",
    "    yield 3"
   ]
  },
  {
   "cell_type": "code",
   "execution_count": 58,
   "id": "06c559e6",
   "metadata": {},
   "outputs": [],
   "source": [
    "num = count_to_three()"
   ]
  },
  {
   "cell_type": "code",
   "execution_count": 64,
   "id": "ffed3266",
   "metadata": {},
   "outputs": [
    {
     "ename": "StopIteration",
     "evalue": "",
     "output_type": "error",
     "traceback": [
      "\u001b[31m---------------------------------------------------------------------------\u001b[39m",
      "\u001b[31mStopIteration\u001b[39m                             Traceback (most recent call last)",
      "\u001b[36mCell\u001b[39m\u001b[36m \u001b[39m\u001b[32mIn[64]\u001b[39m\u001b[32m, line 1\u001b[39m\n\u001b[32m----> \u001b[39m\u001b[32m1\u001b[39m \u001b[38;5;28;43mnext\u001b[39;49m\u001b[43m(\u001b[49m\u001b[43mnum\u001b[49m\u001b[43m)\u001b[49m\n",
      "\u001b[31mStopIteration\u001b[39m: "
     ]
    }
   ],
   "source": [
    "next(num)"
   ]
  },
  {
   "cell_type": "code",
   "execution_count": 77,
   "id": "4c69e5d4",
   "metadata": {},
   "outputs": [
    {
     "data": {
      "text/plain": [
       "generator"
      ]
     },
     "execution_count": 77,
     "metadata": {},
     "output_type": "execute_result"
    }
   ],
   "source": [
    "squares = (x*x for x in range(5))\n",
    "\n",
    "type(squares)"
   ]
  },
  {
   "cell_type": "code",
   "execution_count": null,
   "id": "a5500fa0",
   "metadata": {},
   "outputs": [
    {
     "name": "stdout",
     "output_type": "stream",
     "text": [
      "0\n",
      "1\n",
      "4\n",
      "9\n",
      "16\n"
     ]
    }
   ],
   "source": [
    "for square in squares:\n",
    "    print(square) ->"
   ]
  },
  {
   "cell_type": "code",
   "execution_count": 80,
   "id": "f40934c9",
   "metadata": {},
   "outputs": [],
   "source": [
    "class Stack:\n",
    "    \n",
    "    def __init__(self):\n",
    "        self._items = []\n",
    "    \n",
    "    def push(self, item):\n",
    "        self._items.append(item)\n",
    "    \n",
    "    def pop(self):\n",
    "        self._items.pop()\n",
    "    \n",
    "    def peek(self):\n",
    "        return self._items[-1]\n",
    "    \n",
    "    def is_empty(self):\n",
    "        return len(self._items) == 0\n",
    "    \n",
    "    def size(self):\n",
    "       return len(self._items) "
   ]
  },
  {
   "cell_type": "code",
   "execution_count": 81,
   "id": "e5a20533",
   "metadata": {},
   "outputs": [],
   "source": [
    "stack1 = Stack()\n",
    "stack1.push(\"first\")\n",
    "stack1.push(\"second\")\n",
    "stack1.push(3)"
   ]
  },
  {
   "cell_type": "code",
   "execution_count": 84,
   "id": "a3eebebb",
   "metadata": {},
   "outputs": [
    {
     "data": {
      "text/plain": [
       "'second'"
      ]
     },
     "execution_count": 84,
     "metadata": {},
     "output_type": "execute_result"
    }
   ],
   "source": [
    "stack1.peek()"
   ]
  }
 ],
 "metadata": {
  "kernelspec": {
   "display_name": "workshop",
   "language": "python",
   "name": "python3"
  },
  "language_info": {
   "codemirror_mode": {
    "name": "ipython",
    "version": 3
   },
   "file_extension": ".py",
   "mimetype": "text/x-python",
   "name": "python",
   "nbconvert_exporter": "python",
   "pygments_lexer": "ipython3",
   "version": "3.12.1"
  }
 },
 "nbformat": 4,
 "nbformat_minor": 5
}
